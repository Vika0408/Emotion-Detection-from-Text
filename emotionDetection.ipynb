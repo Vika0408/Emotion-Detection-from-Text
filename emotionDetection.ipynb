{
 "cells": [
  {
   "cell_type": "code",
   "execution_count": 1,
   "metadata": {
    "colab": {
     "base_uri": "https://localhost:8080/"
    },
    "executionInfo": {
     "elapsed": 5160,
     "status": "ok",
     "timestamp": 1733829485962,
     "user": {
      "displayName": "Vanshika Pal",
      "userId": "01111750220004333330"
     },
     "user_tz": -330
    },
    "id": "egTaEb_ZShY8",
    "outputId": "795f1fce-e433-47f2-9dc8-4461bc4dc9ba",
    "ExecuteTime": {
     "end_time": "2024-12-10T13:02:38.353945Z",
     "start_time": "2024-12-10T13:02:19.342972Z"
    }
   },
   "outputs": [
    {
     "name": "stdout",
     "output_type": "stream",
     "text": [
      "Requirement already satisfied: neattext in c:\\users\\dell\\onedrive\\desktop\\vanshika\\emotiontextdetection\\.venv\\lib\\site-packages (0.1.3)\n",
      "Requirement already satisfied: pandas in c:\\users\\dell\\onedrive\\desktop\\vanshika\\emotiontextdetection\\.venv\\lib\\site-packages (2.2.3)\n",
      "Requirement already satisfied: numpy>=1.26.0 in c:\\users\\dell\\onedrive\\desktop\\vanshika\\emotiontextdetection\\.venv\\lib\\site-packages (from pandas) (2.2.0)\n",
      "Requirement already satisfied: python-dateutil>=2.8.2 in c:\\users\\dell\\onedrive\\desktop\\vanshika\\emotiontextdetection\\.venv\\lib\\site-packages (from pandas) (2.9.0.post0)\n",
      "Requirement already satisfied: pytz>=2020.1 in c:\\users\\dell\\onedrive\\desktop\\vanshika\\emotiontextdetection\\.venv\\lib\\site-packages (from pandas) (2024.2)\n",
      "Requirement already satisfied: tzdata>=2022.7 in c:\\users\\dell\\onedrive\\desktop\\vanshika\\emotiontextdetection\\.venv\\lib\\site-packages (from pandas) (2024.2)\n",
      "Requirement already satisfied: six>=1.5 in c:\\users\\dell\\onedrive\\desktop\\vanshika\\emotiontextdetection\\.venv\\lib\\site-packages (from python-dateutil>=2.8.2->pandas) (1.17.0)\n",
      "Requirement already satisfied: numpy in c:\\users\\dell\\onedrive\\desktop\\vanshika\\emotiontextdetection\\.venv\\lib\\site-packages (2.2.0)\n",
      "Requirement already satisfied: seaborn in c:\\users\\dell\\onedrive\\desktop\\vanshika\\emotiontextdetection\\.venv\\lib\\site-packages (0.13.2)\n",
      "Requirement already satisfied: numpy!=1.24.0,>=1.20 in c:\\users\\dell\\onedrive\\desktop\\vanshika\\emotiontextdetection\\.venv\\lib\\site-packages (from seaborn) (2.2.0)\n",
      "Requirement already satisfied: pandas>=1.2 in c:\\users\\dell\\onedrive\\desktop\\vanshika\\emotiontextdetection\\.venv\\lib\\site-packages (from seaborn) (2.2.3)\n",
      "Requirement already satisfied: matplotlib!=3.6.1,>=3.4 in c:\\users\\dell\\onedrive\\desktop\\vanshika\\emotiontextdetection\\.venv\\lib\\site-packages (from seaborn) (3.9.3)\n",
      "Requirement already satisfied: contourpy>=1.0.1 in c:\\users\\dell\\onedrive\\desktop\\vanshika\\emotiontextdetection\\.venv\\lib\\site-packages (from matplotlib!=3.6.1,>=3.4->seaborn) (1.3.1)\n",
      "Requirement already satisfied: cycler>=0.10 in c:\\users\\dell\\onedrive\\desktop\\vanshika\\emotiontextdetection\\.venv\\lib\\site-packages (from matplotlib!=3.6.1,>=3.4->seaborn) (0.12.1)\n",
      "Requirement already satisfied: fonttools>=4.22.0 in c:\\users\\dell\\onedrive\\desktop\\vanshika\\emotiontextdetection\\.venv\\lib\\site-packages (from matplotlib!=3.6.1,>=3.4->seaborn) (4.55.2)\n",
      "Requirement already satisfied: kiwisolver>=1.3.1 in c:\\users\\dell\\onedrive\\desktop\\vanshika\\emotiontextdetection\\.venv\\lib\\site-packages (from matplotlib!=3.6.1,>=3.4->seaborn) (1.4.7)\n",
      "Requirement already satisfied: packaging>=20.0 in c:\\users\\dell\\onedrive\\desktop\\vanshika\\emotiontextdetection\\.venv\\lib\\site-packages (from matplotlib!=3.6.1,>=3.4->seaborn) (24.2)\n",
      "Requirement already satisfied: pillow>=8 in c:\\users\\dell\\onedrive\\desktop\\vanshika\\emotiontextdetection\\.venv\\lib\\site-packages (from matplotlib!=3.6.1,>=3.4->seaborn) (11.0.0)\n",
      "Requirement already satisfied: pyparsing>=2.3.1 in c:\\users\\dell\\onedrive\\desktop\\vanshika\\emotiontextdetection\\.venv\\lib\\site-packages (from matplotlib!=3.6.1,>=3.4->seaborn) (3.2.0)\n",
      "Requirement already satisfied: python-dateutil>=2.7 in c:\\users\\dell\\onedrive\\desktop\\vanshika\\emotiontextdetection\\.venv\\lib\\site-packages (from matplotlib!=3.6.1,>=3.4->seaborn) (2.9.0.post0)\n",
      "Requirement already satisfied: pytz>=2020.1 in c:\\users\\dell\\onedrive\\desktop\\vanshika\\emotiontextdetection\\.venv\\lib\\site-packages (from pandas>=1.2->seaborn) (2024.2)\n",
      "Requirement already satisfied: tzdata>=2022.7 in c:\\users\\dell\\onedrive\\desktop\\vanshika\\emotiontextdetection\\.venv\\lib\\site-packages (from pandas>=1.2->seaborn) (2024.2)\n",
      "Requirement already satisfied: six>=1.5 in c:\\users\\dell\\onedrive\\desktop\\vanshika\\emotiontextdetection\\.venv\\lib\\site-packages (from python-dateutil>=2.7->matplotlib!=3.6.1,>=3.4->seaborn) (1.17.0)\n",
      "Requirement already satisfied: scikit-learn in c:\\users\\dell\\onedrive\\desktop\\vanshika\\emotiontextdetection\\.venv\\lib\\site-packages (1.6.0)\n",
      "Requirement already satisfied: numpy>=1.19.5 in c:\\users\\dell\\onedrive\\desktop\\vanshika\\emotiontextdetection\\.venv\\lib\\site-packages (from scikit-learn) (2.2.0)\n",
      "Requirement already satisfied: scipy>=1.6.0 in c:\\users\\dell\\onedrive\\desktop\\vanshika\\emotiontextdetection\\.venv\\lib\\site-packages (from scikit-learn) (1.14.1)\n",
      "Requirement already satisfied: joblib>=1.2.0 in c:\\users\\dell\\onedrive\\desktop\\vanshika\\emotiontextdetection\\.venv\\lib\\site-packages (from scikit-learn) (1.4.2)\n",
      "Requirement already satisfied: threadpoolctl>=3.1.0 in c:\\users\\dell\\onedrive\\desktop\\vanshika\\emotiontextdetection\\.venv\\lib\\site-packages (from scikit-learn) (3.5.0)\n"
     ]
    }
   ],
   "source": [
    "!pip install neattext\n",
    "!pip install pandas\n",
    "!pip install numpy\n",
    "!pip install seaborn\n",
    "!pip install scikit-learn"
   ]
  },
  {
   "cell_type": "code",
   "execution_count": 2,
   "metadata": {
    "executionInfo": {
     "elapsed": 527,
     "status": "ok",
     "timestamp": 1733829502816,
     "user": {
      "displayName": "Vanshika Pal",
      "userId": "01111750220004333330"
     },
     "user_tz": -330
    },
    "id": "5h_WxFZxPEdh",
    "ExecuteTime": {
     "end_time": "2024-12-10T13:02:38.363191Z",
     "start_time": "2024-12-10T13:02:38.357099Z"
    }
   },
   "outputs": [],
   "source": [
    "import pandas as pd\n",
    "import numpy as np\n",
    "import seaborn as sns"
   ]
  },
  {
   "cell_type": "code",
   "execution_count": 3,
   "metadata": {
    "executionInfo": {
     "elapsed": 654,
     "status": "ok",
     "timestamp": 1733829505859,
     "user": {
      "displayName": "Vanshika Pal",
      "userId": "01111750220004333330"
     },
     "user_tz": -330
    },
    "id": "AlTu7zIhQVTb",
    "ExecuteTime": {
     "end_time": "2024-12-10T13:02:38.480665Z",
     "start_time": "2024-12-10T13:02:38.365275Z"
    }
   },
   "outputs": [],
   "source": [
    "df = pd.read_csv(\"emotion_dataset.csv\")"
   ]
  },
  {
   "cell_type": "code",
   "execution_count": 4,
   "metadata": {
    "colab": {
     "base_uri": "https://localhost:8080/",
     "height": 206
    },
    "executionInfo": {
     "elapsed": 622,
     "status": "ok",
     "timestamp": 1733829508310,
     "user": {
      "displayName": "Vanshika Pal",
      "userId": "01111750220004333330"
     },
     "user_tz": -330
    },
    "id": "naARmmEBQZLc",
    "outputId": "39256603-cbdd-4f7a-9bc4-7f3bb03d9b23",
    "ExecuteTime": {
     "end_time": "2024-12-10T13:02:38.509788Z",
     "start_time": "2024-12-10T13:02:38.482742Z"
    }
   },
   "outputs": [
    {
     "data": {
      "text/plain": "   Emotion                                               Text\n0  neutral                                             Why ? \n1      joy    Sage Act upgrade on my to do list for tommorow.\n2  sadness  ON THE WAY TO MY HOMEGIRL BABY FUNERAL!!! MAN ...\n3      joy   Such an eye ! The true hazel eye-and so brill...\n4      joy  @Iluvmiasantos ugh babe.. hugggzzz for u .!  b...",
      "text/html": "<div>\n<style scoped>\n    .dataframe tbody tr th:only-of-type {\n        vertical-align: middle;\n    }\n\n    .dataframe tbody tr th {\n        vertical-align: top;\n    }\n\n    .dataframe thead th {\n        text-align: right;\n    }\n</style>\n<table border=\"1\" class=\"dataframe\">\n  <thead>\n    <tr style=\"text-align: right;\">\n      <th></th>\n      <th>Emotion</th>\n      <th>Text</th>\n    </tr>\n  </thead>\n  <tbody>\n    <tr>\n      <th>0</th>\n      <td>neutral</td>\n      <td>Why ?</td>\n    </tr>\n    <tr>\n      <th>1</th>\n      <td>joy</td>\n      <td>Sage Act upgrade on my to do list for tommorow.</td>\n    </tr>\n    <tr>\n      <th>2</th>\n      <td>sadness</td>\n      <td>ON THE WAY TO MY HOMEGIRL BABY FUNERAL!!! MAN ...</td>\n    </tr>\n    <tr>\n      <th>3</th>\n      <td>joy</td>\n      <td>Such an eye ! The true hazel eye-and so brill...</td>\n    </tr>\n    <tr>\n      <th>4</th>\n      <td>joy</td>\n      <td>@Iluvmiasantos ugh babe.. hugggzzz for u .!  b...</td>\n    </tr>\n  </tbody>\n</table>\n</div>"
     },
     "execution_count": 4,
     "metadata": {},
     "output_type": "execute_result"
    }
   ],
   "source": [
    "df.head()"
   ]
  },
  {
   "cell_type": "code",
   "execution_count": 5,
   "metadata": {
    "colab": {
     "base_uri": "https://localhost:8080/",
     "height": 366
    },
    "executionInfo": {
     "elapsed": 536,
     "status": "ok",
     "timestamp": 1733829521131,
     "user": {
      "displayName": "Vanshika Pal",
      "userId": "01111750220004333330"
     },
     "user_tz": -330
    },
    "id": "u6VbuBaTQdbb",
    "outputId": "f727264b-4db0-445e-c2b9-314bdfb2075b",
    "ExecuteTime": {
     "end_time": "2024-12-10T13:02:38.529022Z",
     "start_time": "2024-12-10T13:02:38.510863Z"
    }
   },
   "outputs": [
    {
     "data": {
      "text/plain": "Emotion\njoy         11045\nsadness      6722\nfear         5410\nanger        4297\nsurprise     4062\nneutral      2254\ndisgust       856\nshame         146\nName: count, dtype: int64"
     },
     "execution_count": 5,
     "metadata": {},
     "output_type": "execute_result"
    }
   ],
   "source": [
    "df['Emotion'].value_counts()"
   ]
  },
  {
   "cell_type": "code",
   "execution_count": 6,
   "metadata": {
    "colab": {
     "base_uri": "https://localhost:8080/",
     "height": 466
    },
    "executionInfo": {
     "elapsed": 544,
     "status": "ok",
     "timestamp": 1733829534577,
     "user": {
      "displayName": "Vanshika Pal",
      "userId": "01111750220004333330"
     },
     "user_tz": -330
    },
    "id": "51pU3kXyQiAF",
    "outputId": "c372be38-7fba-4b54-8f53-7c9e78cc789b",
    "ExecuteTime": {
     "end_time": "2024-12-10T13:02:39.010552Z",
     "start_time": "2024-12-10T13:02:38.531103Z"
    }
   },
   "outputs": [
    {
     "data": {
      "text/plain": "<Axes: xlabel='Emotion', ylabel='count'>"
     },
     "execution_count": 6,
     "metadata": {},
     "output_type": "execute_result"
    },
    {
     "data": {
      "text/plain": "<Figure size 640x480 with 1 Axes>",
      "image/png": "[encoded data removed]"
     },
     "metadata": {},
     "output_type": "display_data"
    }
   ],
   "source": [
    "sns.countplot(x='Emotion',data=df)"
   ]
  },
  {
   "cell_type": "code",
   "execution_count": 7,
   "metadata": {
    "executionInfo": {
     "elapsed": 535,
     "status": "ok",
     "timestamp": 1733829544702,
     "user": {
      "displayName": "Vanshika Pal",
      "userId": "01111750220004333330"
     },
     "user_tz": -330
    },
    "id": "QZS-WcKfQnJ3",
    "ExecuteTime": {
     "end_time": "2024-12-10T13:02:39.251466Z",
     "start_time": "2024-12-10T13:02:39.014780Z"
    }
   },
   "outputs": [],
   "source": [
    "import neattext.functions as nfx\n",
    "\n",
    "# Remove the user handles\n",
    "df['Clean_Text'] = df['Text'].apply(nfx.remove_userhandles)"
   ]
  },
  {
   "cell_type": "code",
   "execution_count": 8,
   "metadata": {
    "colab": {
     "base_uri": "https://localhost:8080/"
    },
    "executionInfo": {
     "elapsed": 527,
     "status": "ok",
     "timestamp": 1733829560533,
     "user": {
      "displayName": "Vanshika Pal",
      "userId": "01111750220004333330"
     },
     "user_tz": -330
    },
    "id": "U4usshBKS1jO",
    "outputId": "9961f3c1-28d2-419d-c739-92d9ab763145",
    "ExecuteTime": {
     "end_time": "2024-12-10T13:02:39.267349Z",
     "start_time": "2024-12-10T13:02:39.255693Z"
    }
   },
   "outputs": [
    {
     "data": {
      "text/plain": "['BTC_ADDRESS_REGEX',\n 'CURRENCY_REGEX',\n 'CURRENCY_SYMB_REGEX',\n 'Counter',\n 'DATE_REGEX',\n 'EMAIL_REGEX',\n 'EMOJI_REGEX',\n 'HASTAG_REGEX',\n 'MASTERCard_REGEX',\n 'MD5_SHA_REGEX',\n 'MOST_COMMON_PUNCT_REGEX',\n 'NUMBERS_REGEX',\n 'PHONE_REGEX',\n 'PoBOX_REGEX',\n 'SPECIAL_CHARACTERS_REGEX',\n 'STOPWORDS',\n 'STOPWORDS_de',\n 'STOPWORDS_en',\n 'STOPWORDS_es',\n 'STOPWORDS_fr',\n 'STOPWORDS_ru',\n 'STOPWORDS_yo',\n 'STREET_ADDRESS_REGEX',\n 'TextFrame',\n 'URL_PATTERN',\n 'USER_HANDLES_REGEX',\n 'VISACard_REGEX',\n '__builtins__',\n '__cached__',\n '__doc__',\n '__file__',\n '__generate_text',\n '__loader__',\n '__name__',\n '__numbers_dict',\n '__package__',\n '__spec__',\n '_lex_richness_herdan',\n '_lex_richness_maas_ttr',\n 'clean_text',\n 'defaultdict',\n 'digit2words',\n 'extract_btc_address',\n 'extract_currencies',\n 'extract_currency_symbols',\n 'extract_dates',\n 'extract_emails',\n 'extract_emojis',\n 'extract_hashtags',\n 'extract_html_tags',\n 'extract_mastercard_addr',\n 'extract_md5sha',\n 'extract_numbers',\n 'extract_pattern',\n 'extract_phone_numbers',\n 'extract_postoffice_box',\n 'extract_shortwords',\n 'extract_special_characters',\n 'extract_stopwords',\n 'extract_street_address',\n 'extract_terms_in_bracket',\n 'extract_urls',\n 'extract_userhandles',\n 'extract_visacard_addr',\n 'fix_contractions',\n 'generate_sentence',\n 'hamming_distance',\n 'inverse_df',\n 'lexical_richness',\n 'markov_chain',\n 'math',\n 'nlargest',\n 'normalize',\n 'num2words',\n 'random',\n 're',\n 'read_txt',\n 'remove_accents',\n 'remove_bad_quotes',\n 'remove_btc_address',\n 'remove_currencies',\n 'remove_currency_symbols',\n 'remove_custom_pattern',\n 'remove_custom_words',\n 'remove_dates',\n 'remove_emails',\n 'remove_emojis',\n 'remove_hashtags',\n 'remove_html_tags',\n 'remove_mastercard_addr',\n 'remove_md5sha',\n 'remove_multiple_spaces',\n 'remove_non_ascii',\n 'remove_numbers',\n 'remove_phone_numbers',\n 'remove_postoffice_box',\n 'remove_puncts',\n 'remove_punctuations',\n 'remove_shortwords',\n 'remove_special_characters',\n 'remove_stopwords',\n 'remove_street_address',\n 'remove_terms_in_bracket',\n 'remove_urls',\n 'remove_userhandles',\n 'remove_visacard_addr',\n 'replace_bad_quotes',\n 'replace_currencies',\n 'replace_currency_symbols',\n 'replace_dates',\n 'replace_emails',\n 'replace_emojis',\n 'replace_numbers',\n 'replace_phone_numbers',\n 'replace_special_characters',\n 'replace_term',\n 'replace_urls',\n 'string',\n 'term_freq',\n 'to_txt',\n 'unicodedata',\n 'word_freq',\n 'word_length_freq']"
     },
     "execution_count": 8,
     "metadata": {},
     "output_type": "execute_result"
    }
   ],
   "source": [
    "dir(nfx)"
   ]
  },
  {
   "cell_type": "code",
   "execution_count": 9,
   "metadata": {
    "executionInfo": {
     "elapsed": 508,
     "status": "ok",
     "timestamp": 1733829586525,
     "user": {
      "displayName": "Vanshika Pal",
      "userId": "01111750220004333330"
     },
     "user_tz": -330
    },
    "id": "MZxkkHM_S6aS",
    "ExecuteTime": {
     "end_time": "2024-12-10T13:02:39.568561Z",
     "start_time": "2024-12-10T13:02:39.269649Z"
    }
   },
   "outputs": [],
   "source": [
    "# Remove the stopwords\n",
    "df['Clean_Text'] = df['Clean_Text'].apply(nfx.remove_stopwords)"
   ]
  },
  {
   "cell_type": "code",
   "execution_count": 10,
   "metadata": {
    "colab": {
     "base_uri": "https://localhost:8080/",
     "height": 458
    },
    "executionInfo": {
     "elapsed": 554,
     "status": "ok",
     "timestamp": 1733829601391,
     "user": {
      "displayName": "Vanshika Pal",
      "userId": "01111750220004333330"
     },
     "user_tz": -330
    },
    "id": "TPS-YQGKS_sX",
    "outputId": "02a931d4-d1a4-4b88-e3a6-60761c996c43",
    "ExecuteTime": {
     "end_time": "2024-12-10T13:02:39.586246Z",
     "start_time": "2024-12-10T13:02:39.570650Z"
    }
   },
   "outputs": [
    {
     "data": {
      "text/plain": "        Emotion                                               Text  \\\n0       neutral                                             Why ?    \n1           joy    Sage Act upgrade on my to do list for tommorow.   \n2       sadness  ON THE WAY TO MY HOMEGIRL BABY FUNERAL!!! MAN ...   \n3           joy   Such an eye ! The true hazel eye-and so brill...   \n4           joy  @Iluvmiasantos ugh babe.. hugggzzz for u .!  b...   \n...         ...                                                ...   \n34787  surprise  @MichelGW have you gift! Hope you like it! It'...   \n34788       joy  The world didnt give it to me..so the world MO...   \n34789     anger                           A man robbed me today .    \n34790      fear  Youu call it JEALOUSY, I call it of #Losing YO...   \n34791   sadness  I think about you baby, and I dream about you ...   \n\n                                              Clean_Text  \n0                                                      ?  \n1                        Sage Act upgrade list tommorow.  \n2      WAY HOMEGIRL BABY FUNERAL!!! MAN HATE FUNERALS...  \n3      eye ! true hazel eye-and brilliant ! Regular f...  \n4      ugh babe.. hugggzzz u .! babe naamazed nga ako...  \n...                                                  ...  \n34787    gift! Hope like it! hand wear ! It'll warm! Lol  \n34788    world didnt me..so world DEFINITELY cnt away!!!  \n34789                                 man robbed today .  \n34790                      Youu JEALOUSY, #Losing YOU...  \n34791                             think baby, dream time  \n\n[34792 rows x 3 columns]",
      "text/html": "<div>\n<style scoped>\n    .dataframe tbody tr th:only-of-type {\n        vertical-align: middle;\n    }\n\n    .dataframe tbody tr th {\n        vertical-align: top;\n    }\n\n    .dataframe thead th {\n        text-align: right;\n    }\n</style>\n<table border=\"1\" class=\"dataframe\">\n  <thead>\n    <tr style=\"text-align: right;\">\n      <th></th>\n      <th>Emotion</th>\n      <th>Text</th>\n      <th>Clean_Text</th>\n    </tr>\n  </thead>\n  <tbody>\n    <tr>\n      <th>0</th>\n      <td>neutral</td>\n      <td>Why ?</td>\n      <td>?</td>\n    </tr>\n    <tr>\n      <th>1</th>\n      <td>joy</td>\n      <td>Sage Act upgrade on my to do list for tommorow.</td>\n      <td>Sage Act upgrade list tommorow.</td>\n    </tr>\n    <tr>\n      <th>2</th>\n      <td>sadness</td>\n      <td>ON THE WAY TO MY HOMEGIRL BABY FUNERAL!!! MAN ...</td>\n      <td>WAY HOMEGIRL BABY FUNERAL!!! MAN HATE FUNERALS...</td>\n    </tr>\n    <tr>\n      <th>3</th>\n      <td>joy</td>\n      <td>Such an eye ! The true hazel eye-and so brill...</td>\n      <td>eye ! true hazel eye-and brilliant ! Regular f...</td>\n    </tr>\n    <tr>\n      <th>4</th>\n      <td>joy</td>\n      <td>@Iluvmiasantos ugh babe.. hugggzzz for u .!  b...</td>\n      <td>ugh babe.. hugggzzz u .! babe naamazed nga ako...</td>\n    </tr>\n    <tr>\n      <th>...</th>\n      <td>...</td>\n      <td>...</td>\n      <td>...</td>\n    </tr>\n    <tr>\n      <th>34787</th>\n      <td>surprise</td>\n      <td>@MichelGW have you gift! Hope you like it! It'...</td>\n      <td>gift! Hope like it! hand wear ! It'll warm! Lol</td>\n    </tr>\n    <tr>\n      <th>34788</th>\n      <td>joy</td>\n      <td>The world didnt give it to me..so the world MO...</td>\n      <td>world didnt me..so world DEFINITELY cnt away!!!</td>\n    </tr>\n    <tr>\n      <th>34789</th>\n      <td>anger</td>\n      <td>A man robbed me today .</td>\n      <td>man robbed today .</td>\n    </tr>\n    <tr>\n      <th>34790</th>\n      <td>fear</td>\n      <td>Youu call it JEALOUSY, I call it of #Losing YO...</td>\n      <td>Youu JEALOUSY, #Losing YOU...</td>\n    </tr>\n    <tr>\n      <th>34791</th>\n      <td>sadness</td>\n      <td>I think about you baby, and I dream about you ...</td>\n      <td>think baby, dream time</td>\n    </tr>\n  </tbody>\n</table>\n<p>34792 rows × 3 columns</p>\n</div>"
     },
     "execution_count": 10,
     "metadata": {},
     "output_type": "execute_result"
    }
   ],
   "source": [
    "df"
   ]
  },
  {
   "cell_type": "code",
   "execution_count": 11,
   "metadata": {
    "executionInfo": {
     "elapsed": 533,
     "status": "ok",
     "timestamp": 1733829640032,
     "user": {
      "displayName": "Vanshika Pal",
      "userId": "01111750220004333330"
     },
     "user_tz": -330
    },
    "id": "Vr_uCmxlTHNk",
    "ExecuteTime": {
     "end_time": "2024-12-10T13:02:39.596865Z",
     "start_time": "2024-12-10T13:02:39.589453Z"
    }
   },
   "outputs": [],
   "source": [
    "x = df['Clean_Text']\n",
    "y = df['Emotion']"
   ]
  },
  {
   "cell_type": "code",
   "execution_count": 12,
   "metadata": {
    "executionInfo": {
     "elapsed": 1491,
     "status": "ok",
     "timestamp": 1733829657564,
     "user": {
      "displayName": "Vanshika Pal",
      "userId": "01111750220004333330"
     },
     "user_tz": -330
    },
    "id": "-XgG17PLTMjP",
    "ExecuteTime": {
     "end_time": "2024-12-10T13:02:40.036048Z",
     "start_time": "2024-12-10T13:02:39.600046Z"
    }
   },
   "outputs": [],
   "source": [
    "from sklearn.model_selection import train_test_split\n",
    "\n",
    "x_train,x_test,y_train,y_test = train_test_split(x,y,test_size=0.3,random_state=42)"
   ]
  },
  {
   "cell_type": "code",
   "execution_count": 13,
   "metadata": {
    "executionInfo": {
     "elapsed": 1059,
     "status": "ok",
     "timestamp": 1733829675356,
     "user": {
      "displayName": "Vanshika Pal",
      "userId": "01111750220004333330"
     },
     "user_tz": -330
    },
    "id": "-01LS_rTTQ_n",
    "ExecuteTime": {
     "end_time": "2024-12-10T13:02:40.394611Z",
     "start_time": "2024-12-10T13:02:40.037110Z"
    }
   },
   "outputs": [],
   "source": [
    "from sklearn.pipeline import Pipeline\n",
    "from sklearn.feature_extraction.text import CountVectorizer\n",
    "from sklearn.svm import SVC\n",
    "from sklearn.ensemble import RandomForestClassifier\n",
    "from sklearn.linear_model import LogisticRegression"
   ]
  },
  {
   "cell_type": "code",
   "execution_count": 14,
   "metadata": {
    "colab": {
     "base_uri": "https://localhost:8080/"
    },
    "executionInfo": {
     "elapsed": 11498,
     "status": "ok",
     "timestamp": 1733829705426,
     "user": {
      "displayName": "Vanshika Pal",
      "userId": "01111750220004333330"
     },
     "user_tz": -330
    },
    "id": "2h9oHvZmTWF2",
    "outputId": "7513e4f0-cd82-486b-a14f-a3e3dfe499eb",
    "ExecuteTime": {
     "end_time": "2024-12-10T13:02:55.692737Z",
     "start_time": "2024-12-10T13:02:40.398608Z"
    }
   },
   "outputs": [
    {
     "name": "stderr",
     "output_type": "stream",
     "text": [
      "C:\\Users\\DELL\\OneDrive\\Desktop\\Vanshika\\emotionTextDetection\\.venv\\Lib\\site-packages\\sklearn\\linear_model\\_logistic.py:465: ConvergenceWarning: lbfgs failed to converge (status=1):\n",
      "STOP: TOTAL NO. of ITERATIONS REACHED LIMIT.\n",
      "\n",
      "Increase the number of iterations (max_iter) or scale the data as shown in:\n",
      "    https://scikit-learn.org/stable/modules/preprocessing.html\n",
      "Please also refer to the documentation for alternative solver options:\n",
      "    https://scikit-learn.org/stable/modules/linear_model.html#logistic-regression\n",
      "  n_iter_i = _check_optimize_result(\n"
     ]
    },
    {
     "data": {
      "text/plain": "0.6201379574631155"
     },
     "execution_count": 14,
     "metadata": {},
     "output_type": "execute_result"
    }
   ],
   "source": [
    "pipe_lr = Pipeline(steps=[('cv',CountVectorizer()),('lr',LogisticRegression())])\n",
    "pipe_lr.fit(x_train,y_train)\n",
    "pipe_lr.score(x_test,y_test)"
   ]
  },
  {
   "cell_type": "code",
   "execution_count": 15,
   "metadata": {
    "colab": {
     "base_uri": "https://localhost:8080/"
    },
    "executionInfo": {
     "elapsed": 255023,
     "status": "ok",
     "timestamp": 1733829985111,
     "user": {
      "displayName": "Vanshika Pal",
      "userId": "01111750220004333330"
     },
     "user_tz": -330
    },
    "id": "20PDswm8TdQS",
    "outputId": "485631b3-4139-433e-cd44-e01e0eb4d4d3",
    "ExecuteTime": {
     "end_time": "2024-12-10T13:06:41.637367Z",
     "start_time": "2024-12-10T13:02:55.693801Z"
    }
   },
   "outputs": [
    {
     "data": {
      "text/plain": "0.62195822954589"
     },
     "execution_count": 15,
     "metadata": {},
     "output_type": "execute_result"
    }
   ],
   "source": [
    "pipe_svm = Pipeline(steps=[('cv',CountVectorizer()),('svc', SVC(kernel = 'rbf', C = 10))])\n",
    "pipe_svm.fit(x_train,y_train)\n",
    "pipe_svm.score(x_test,y_test)"
   ]
  },
  {
   "cell_type": "code",
   "execution_count": 16,
   "metadata": {
    "colab": {
     "base_uri": "https://localhost:8080/"
    },
    "executionInfo": {
     "elapsed": 13353,
     "status": "ok",
     "timestamp": 1733830023292,
     "user": {
      "displayName": "Vanshika Pal",
      "userId": "01111750220004333330"
     },
     "user_tz": -330
    },
    "id": "VVOwJsqzUivN",
    "outputId": "e0d40d5a-2a5d-4871-fd66-684d1ae4cbd7",
    "ExecuteTime": {
     "end_time": "2024-12-10T13:07:05.516250Z",
     "start_time": "2024-12-10T13:06:41.640601Z"
    }
   },
   "outputs": [
    {
     "data": {
      "text/plain": "0.5606438014945392"
     },
     "execution_count": 16,
     "metadata": {},
     "output_type": "execute_result"
    }
   ],
   "source": [
    "pipe_rf = Pipeline(steps=[('cv',CountVectorizer()),('rf', RandomForestClassifier(n_estimators=10))])\n",
    "pipe_rf.fit(x_train,y_train)\n",
    "pipe_rf.score(x_test,y_test)"
   ]
  },
  {
   "cell_type": "code",
   "execution_count": 17,
   "metadata": {
    "executionInfo": {
     "elapsed": 535,
     "status": "ok",
     "timestamp": 1733830052613,
     "user": {
      "displayName": "Vanshika Pal",
      "userId": "01111750220004333330"
     },
     "user_tz": -330
    },
    "id": "41Hnis0ZUvXz",
    "ExecuteTime": {
     "end_time": "2024-12-10T13:07:06.259427Z",
     "start_time": "2024-12-10T13:07:05.519350Z"
    }
   },
   "outputs": [],
   "source": [
    "import joblib\n",
    "pipeline_file = open(\"text_emotion.pkl\",\"wb\")\n",
    "joblib.dump(pipe_lr,pipeline_file)\n",
    "pipeline_file.close()"
   ]
  }
 ],
 "metadata": {
  "colab": {
   "authorship_tag": "ABX9TyNr1xB885rh31apspV3/A8d",
   "provenance": []
  },
  "kernelspec": {
   "display_name": "Python 3 (ipykernel)",
   "language": "python",
   "name": "python3"
  },
  "language_info": {
   "codemirror_mode": {
    "name": "ipython",
    "version": 3
   },
   "file_extension": ".py",
   "mimetype": "text/x-python",
   "name": "python",
   "nbconvert_exporter": "python",
   "pygments_lexer": "ipython3",
   "version": "3.12.3"
  }
 },
 "nbformat": 4,
 "nbformat_minor": 4
}
